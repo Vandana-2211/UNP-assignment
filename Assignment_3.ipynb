{
  "nbformat": 4,
  "nbformat_minor": 0,
  "metadata": {
    "colab": {
      "name": "Assignment 3.ipynb",
      "provenance": [],
      "authorship_tag": "ABX9TyPGiuqnPnu82u4n9V5ALeav",
      "include_colab_link": true
    },
    "kernelspec": {
      "name": "python3",
      "display_name": "Python 3"
    },
    "language_info": {
      "name": "python"
    }
  },
  "cells": [
    {
      "cell_type": "markdown",
      "metadata": {
        "id": "view-in-github",
        "colab_type": "text"
      },
      "source": [
        "<a href=\"https://colab.research.google.com/github/Vandana-2211/UNP-assignment/blob/main/Assignment_3.ipynb\" target=\"_parent\"><img src=\"https://colab.research.google.com/assets/colab-badge.svg\" alt=\"Open In Colab\"/></a>"
      ]
    },
    {
      "cell_type": "markdown",
      "source": [
        "##kinetic formulae"
      ],
      "metadata": {
        "id": "Qr4x4YWg7o4I"
      }
    },
    {
      "cell_type": "code",
      "source": [
        "a=10\n",
        "u=15\n",
        "t=20\n",
        "v=u+(a*t)\n",
        "s=(u*t)+(0.5*a*t**2)\n",
        "#n=v**2\n",
        "n=(u**2)+(2*a*s)\n",
        "print(\"v =\",v,\"s=\", s,\"v^2 =\",n)\n"
      ],
      "metadata": {
        "colab": {
          "base_uri": "https://localhost:8080/"
        },
        "id": "1FFPjyVG5ZC5",
        "outputId": "bc09e652-a8b2-48bb-e675-fbae8ae61531"
      },
      "execution_count": null,
      "outputs": [
        {
          "output_type": "stream",
          "name": "stdout",
          "text": [
            "v = 215 s= 2300.0 v^2 = 46225.0\n"
          ]
        }
      ]
    },
    {
      "cell_type": "markdown",
      "source": [
        "##Grading system"
      ],
      "metadata": {
        "id": "uR4aW6MZx04B"
      }
    },
    {
      "cell_type": "code",
      "execution_count": null,
      "metadata": {
        "id": "6C35W_MEtZLl"
      },
      "outputs": [],
      "source": [
        "import pandas as pd\n",
        "import numpy as np\n"
      ]
    },
    {
      "cell_type": "code",
      "source": [
        "mat=int(input(\"enter marks in maths\"))\n",
        "phy=int(input(\"enter marks in physics\"))\n",
        "che=int(input(\"enter marks in chemistry\"))\n",
        "lit=int(input(\"enter marks in literature\"))\n",
        "com=int(input(\"enter marks in computer\"))\n"
      ],
      "metadata": {
        "colab": {
          "base_uri": "https://localhost:8080/"
        },
        "id": "rCIL9yG1uZrj",
        "outputId": "40344a44-30ed-4948-bcc1-d828aa2ec067"
      },
      "execution_count": null,
      "outputs": [
        {
          "name": "stdout",
          "output_type": "stream",
          "text": [
            "enter marks in maths98\n",
            "enter marks in physics85\n",
            "enter marks in chemistry86\n",
            "enter marks in literature75\n",
            "enter marks in computer88\n"
          ]
        }
      ]
    },
    {
      "cell_type": "code",
      "source": [
        "avg=(mat+phy+che+lit+com)/5\n",
        "avg"
      ],
      "metadata": {
        "colab": {
          "base_uri": "https://localhost:8080/"
        },
        "id": "PXEN3T1AvPoH",
        "outputId": "8bd1d04b-2a79-47bc-db41-b148e7f43de5"
      },
      "execution_count": null,
      "outputs": [
        {
          "output_type": "execute_result",
          "data": {
            "text/plain": [
              "86.4"
            ]
          },
          "metadata": {},
          "execution_count": 6
        }
      ]
    },
    {
      "cell_type": "code",
      "source": [
        "avg_in_sci=(mat+phy+che)/3\n",
        "avg_in_sci"
      ],
      "metadata": {
        "colab": {
          "base_uri": "https://localhost:8080/"
        },
        "id": "hRGPe68GvoWo",
        "outputId": "8c8f00ab-7f27-4f56-aa94-451ad7b2eb2f"
      },
      "execution_count": null,
      "outputs": [
        {
          "output_type": "execute_result",
          "data": {
            "text/plain": [
              "89.66666666666667"
            ]
          },
          "metadata": {},
          "execution_count": 7
        }
      ]
    },
    {
      "cell_type": "code",
      "source": [
        "if(avg>90):\n",
        "  print(\"excellent\")"
      ],
      "metadata": {
        "id": "-QYiorC-wDmF"
      },
      "execution_count": null,
      "outputs": []
    },
    {
      "cell_type": "code",
      "source": [
        "if(avg>80 and avg<90 and avg_in_sci>95):\n",
        "  print(\"excellent\")"
      ],
      "metadata": {
        "id": "-ZxwuWViwQdt"
      },
      "execution_count": null,
      "outputs": []
    },
    {
      "cell_type": "code",
      "source": [
        "if(avg>70 and avg<80):\n",
        "  print(\"good\")"
      ],
      "metadata": {
        "id": "WJ35fXrsw1EI"
      },
      "execution_count": null,
      "outputs": []
    },
    {
      "cell_type": "code",
      "source": [
        "if(avg<70):\n",
        "  print(\"fail\")"
      ],
      "metadata": {
        "id": "-F3_5WdcxFJP"
      },
      "execution_count": null,
      "outputs": []
    },
    {
      "cell_type": "markdown",
      "source": [
        "##using loops"
      ],
      "metadata": {
        "id": "mfGe-nEY2mO2"
      }
    },
    {
      "cell_type": "code",
      "source": [
        "print(\"even numbers upto 100 are:\")\n",
        "start,end=0,100\n",
        "for number in range(start,end+1):\n",
        "  if(number%2==0):\n",
        "    print(number )"
      ],
      "metadata": {
        "colab": {
          "base_uri": "https://localhost:8080/"
        },
        "id": "Ilmih_OBxQVh",
        "outputId": "2cd4be93-8438-4704-a9a8-a03feef18c8b"
      },
      "execution_count": null,
      "outputs": [
        {
          "output_type": "stream",
          "name": "stdout",
          "text": [
            "even numbers upto 100 are:\n",
            "0\n",
            "2\n",
            "4\n",
            "6\n",
            "8\n",
            "10\n",
            "12\n",
            "14\n",
            "16\n",
            "18\n",
            "20\n",
            "22\n",
            "24\n",
            "26\n",
            "28\n",
            "30\n",
            "32\n",
            "34\n",
            "36\n",
            "38\n",
            "40\n",
            "42\n",
            "44\n",
            "46\n",
            "48\n",
            "50\n",
            "52\n",
            "54\n",
            "56\n",
            "58\n",
            "60\n",
            "62\n",
            "64\n",
            "66\n",
            "68\n",
            "70\n",
            "72\n",
            "74\n",
            "76\n",
            "78\n",
            "80\n",
            "82\n",
            "84\n",
            "86\n",
            "88\n",
            "90\n",
            "92\n",
            "94\n",
            "96\n",
            "98\n",
            "100\n"
          ]
        }
      ]
    },
    {
      "cell_type": "code",
      "source": [
        "print(\"All numbers which are multiple by 3 or 5 are:\")\n",
        "start,end=0,200\n",
        "for number in range(start,end):\n",
        "  if(number%3==0 or number%5==0):\n",
        "    print(number )"
      ],
      "metadata": {
        "colab": {
          "base_uri": "https://localhost:8080/"
        },
        "id": "My72Scbrym7B",
        "outputId": "a7261fe1-99f6-48d3-9208-ce14975f7d28"
      },
      "execution_count": null,
      "outputs": [
        {
          "output_type": "stream",
          "name": "stdout",
          "text": [
            "All numbers which are multiple by 3 or 5 are:\n",
            "0\n",
            "3\n",
            "5\n",
            "6\n",
            "9\n",
            "10\n",
            "12\n",
            "15\n",
            "18\n",
            "20\n",
            "21\n",
            "24\n",
            "25\n",
            "27\n",
            "30\n",
            "33\n",
            "35\n",
            "36\n",
            "39\n",
            "40\n",
            "42\n",
            "45\n",
            "48\n",
            "50\n",
            "51\n",
            "54\n",
            "55\n",
            "57\n",
            "60\n",
            "63\n",
            "65\n",
            "66\n",
            "69\n",
            "70\n",
            "72\n",
            "75\n",
            "78\n",
            "80\n",
            "81\n",
            "84\n",
            "85\n",
            "87\n",
            "90\n",
            "93\n",
            "95\n",
            "96\n",
            "99\n",
            "100\n",
            "102\n",
            "105\n",
            "108\n",
            "110\n",
            "111\n",
            "114\n",
            "115\n",
            "117\n",
            "120\n",
            "123\n",
            "125\n",
            "126\n",
            "129\n",
            "130\n",
            "132\n",
            "135\n",
            "138\n",
            "140\n",
            "141\n",
            "144\n",
            "145\n",
            "147\n",
            "150\n",
            "153\n",
            "155\n",
            "156\n",
            "159\n",
            "160\n",
            "162\n",
            "165\n",
            "168\n",
            "170\n",
            "171\n",
            "174\n",
            "175\n",
            "177\n",
            "180\n",
            "183\n",
            "185\n",
            "186\n",
            "189\n",
            "190\n",
            "192\n",
            "195\n",
            "198\n"
          ]
        }
      ]
    },
    {
      "cell_type": "code",
      "source": [
        "number=int(input(\"enter the number\"))\n",
        "fact=0\n",
        "for i in range(2,number-1):\n",
        "  if(number%i==0):\n",
        "    fact=1\n",
        "if(fact==0):\n",
        "  print(number,\"is a prime number\")\n",
        "else:\n",
        "  print(number,\"is not a prime number\")"
      ],
      "metadata": {
        "colab": {
          "base_uri": "https://localhost:8080/"
        },
        "id": "MJjp6YEPz3qa",
        "outputId": "d28c3c6d-59c3-4c4a-e5ba-708ef9c3253e"
      },
      "execution_count": null,
      "outputs": [
        {
          "output_type": "stream",
          "name": "stdout",
          "text": [
            "enter the number2\n",
            "2 is a prime number\n"
          ]
        }
      ]
    }
  ]
}